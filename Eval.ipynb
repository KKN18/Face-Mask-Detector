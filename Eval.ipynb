{
  "cells": [
    {
      "cell_type": "code",
      "execution_count": null,
      "metadata": {
        "colab": {
          "base_uri": "https://localhost:8080/"
        },
        "id": "1dOgjL6elAmx",
        "outputId": "89d2972b-8473-4079-b0e4-519c94e048cc"
      },
      "outputs": [
        {
          "name": "stdout",
          "output_type": "stream",
          "text": [
            "Mounted at /content/drive\n"
          ]
        }
      ],
      "source": [
        "from google.colab import drive\n",
        "drive.mount('/content/drive')"
      ]
    },
    {
      "cell_type": "code",
      "execution_count": null,
      "metadata": {
        "id": "DufKd9UplFKs"
      },
      "outputs": [],
      "source": [
        "import torch\n",
        "import torchvision.models as models\n",
        "import torchvision\n",
        "import glob\n",
        "from PIL import Image\n",
        "import cv2\n",
        "from google.colab.patches import cv2_imshow"
      ]
    },
    {
      "cell_type": "code",
      "execution_count": null,
      "metadata": {
        "id": "hzYh7zRPlO_g"
      },
      "outputs": [],
      "source": [
        "folder_path = \"/content/drive/MyDrive/Colab Notebooks/2022/Face Mask Detector\"\n",
        "images_path = f\"{folder_path}/Dataset/images\"\n",
        "annots_path = f\"{folder_path}/Dataset/annotations\"\n",
        "test_path = f\"{folder_path}/Test\""
      ]
    },
    {
      "cell_type": "code",
      "execution_count": null,
      "metadata": {
        "id": "YvLGxOkwlPQJ"
      },
      "outputs": [],
      "source": [
        "if torch.cuda.is_available():\n",
        "    device = torch.device(\"cuda:0\")\n",
        "else:\n",
        "    device = torch.device(\"cpu\")"
      ]
    },
    {
      "cell_type": "code",
      "execution_count": null,
      "metadata": {
        "colab": {
          "base_uri": "https://localhost:8080/",
          "height": 87,
          "referenced_widgets": [
            "f62ffc96ac8c4bc2935d98c45a6680d2",
            "e1e6e36cc7154523abb01ed464d85771",
            "ac4b0f7d6c3a476a9bd4616ab7a2a0de",
            "98fa5673b1894c0f90d72caa860f359e",
            "265a7edde5244a1580d9ed052600d9a6",
            "fd6b4eda7dc14130a92df36d962b40fc",
            "bccba6a2779c4f6da079fe52675c4759",
            "1f07187915a04ce7993343eead88ca59",
            "903a93854b9e4ff6af0900946d135d46",
            "7a649967870e496eb9ea3ffc3105cbb7",
            "e21e1a3b38c74d17a90f3a3e2ecf6756"
          ]
        },
        "id": "sjp32tLJlRnH",
        "outputId": "fb3b3ef9-6ed2-4fca-8321-ab4ddf3289b9"
      },
      "outputs": [
        {
          "name": "stderr",
          "output_type": "stream",
          "text": [
            "Downloading: \"https://download.pytorch.org/models/fasterrcnn_resnet50_fpn_coco-258fb6c6.pth\" to /root/.cache/torch/hub/checkpoints/fasterrcnn_resnet50_fpn_coco-258fb6c6.pth\n"
          ]
        },
        {
          "data": {
            "application/vnd.jupyter.widget-view+json": {
              "model_id": "f62ffc96ac8c4bc2935d98c45a6680d2",
              "version_major": 2,
              "version_minor": 0
            },
            "text/plain": [
              "  0%|          | 0.00/160M [00:00<?, ?B/s]"
            ]
          },
          "metadata": {},
          "output_type": "display_data"
        }
      ],
      "source": [
        "num_classes = 3\n",
        "\n",
        "model = models.detection.fasterrcnn_resnet50_fpn(weights='COCO_V1')\n",
        "in_features = model.roi_heads.box_predictor.cls_score.in_features\n",
        "model.roi_heads.box_predictor = models.detection.faster_rcnn.FastRCNNPredictor(in_features, num_classes)\n",
        "model = model.to(device)"
      ]
    },
    {
      "cell_type": "code",
      "execution_count": null,
      "metadata": {
        "colab": {
          "base_uri": "https://localhost:8080/"
        },
        "id": "92rzGxyElVox",
        "outputId": "124317b4-e97a-405c-8c19-bcf840aeba16"
      },
      "outputs": [
        {
          "data": {
            "text/plain": [
              "<All keys matched successfully>"
            ]
          },
          "execution_count": 8,
          "metadata": {},
          "output_type": "execute_result"
        }
      ],
      "source": [
        "modelpath = \"model\"\n",
        "\n",
        "model.load_state_dict(torch.load(f\"{folder_path}/{modelpath}/model_state_dict.pt\"))"
      ]
    },
    {
      "cell_type": "code",
      "execution_count": null,
      "metadata": {
        "id": "CN-Rjhwfp6UA"
      },
      "outputs": [],
      "source": [
        "transforms = torchvision.transforms.Compose([\n",
        "      torchvision.transforms.ToTensor()\n",
        "])"
      ]
    },
    {
      "cell_type": "code",
      "execution_count": null,
      "metadata": {
        "id": "7FWR5GyU3GD_"
      },
      "outputs": [],
      "source": [
        "class MaskTestDataset(torch.utils.data.Dataset):\n",
        "    def __init__(self, transforms=None):\n",
        "        self.transforms = transforms\n",
        "        self.images = glob.glob(f\"{test_path}/*.jpg\")\n",
        "\n",
        "    def __getitem__(self, idx):\n",
        "        img_path = self.images[idx]\n",
        "        image = Image.open(img_path).convert(\"RGB\")\n",
        "        if self.transforms is not None:\n",
        "            image = self.transforms(image)\n",
        "\n",
        "        return image, img_path\n",
        "        \n",
        "\n",
        "    def __len__(self):\n",
        "        return len(self.images)"
      ]
    },
    {
      "cell_type": "code",
      "execution_count": null,
      "metadata": {
        "id": "ovPoUZ8D3psn"
      },
      "outputs": [],
      "source": [
        "def collate_fn(batch):\n",
        "    return tuple(zip(*batch))\n",
        "\n",
        "test_dataset = MaskTestDataset(transforms=transforms)\n",
        "test_dataloader = torch.utils.data.DataLoader(\n",
        "    test_dataset,\n",
        "    batch_size=1,\n",
        "    shuffle=False,\n",
        "    num_workers=1,\n",
        "    drop_last=False,\n",
        "    collate_fn=collate_fn\n",
        ")"
      ]
    },
    {
      "cell_type": "code",
      "execution_count": 76,
      "metadata": {
        "id": "0LrqTXG-ln7-"
      },
      "outputs": [],
      "source": [
        "model.eval()\n",
        "model.to(device)\n",
        "test_path = f\"{folder_path}/Test\"\n",
        "\n",
        "output_list = []\n",
        "image_list = []\n",
        "for images, image_path in test_dataloader:\n",
        "    images = list(image.to(device) for image in images)\n",
        "    output = model(images)\n",
        "    output_list.append(output)\n",
        "    image_list.append(image_path)\n",
        "\n",
        "# print(output_list)\n",
        "# print(image_list)"
      ]
    },
    {
      "cell_type": "code",
      "source": [
        "def decode_category(label):\n",
        "    if label == 0:\n",
        "        return \"without mask\"\n",
        "    elif label == 1:\n",
        "        return \"with mask\"\n",
        "    return \"incorrect mask\""
      ],
      "metadata": {
        "id": "9ZwbT9jHM8GI"
      },
      "execution_count": 73,
      "outputs": []
    },
    {
      "cell_type": "code",
      "execution_count": 74,
      "metadata": {
        "colab": {
          "base_uri": "https://localhost:8080/"
        },
        "id": "NxDi3PTKq9z_",
        "outputId": "49d34c08-27e1-4918-de69-a8ff6ccf51a9"
      },
      "outputs": [
        {
          "output_type": "stream",
          "name": "stdout",
          "text": [
            "/content/drive/MyDrive/Colab Notebooks/2022/Face Mask Detector/Test/kobby-mendez-VGYcVZguFzs-unsplash_detect.jpg\n",
            "/content/drive/MyDrive/Colab Notebooks/2022/Face Mask Detector/Test/engin-akyurt-WBM97UGM0QA-unsplash_detect.jpg\n",
            "/content/drive/MyDrive/Colab Notebooks/2022/Face Mask Detector/Test/engin-akyurt-Y-K06KGg7ak-unsplash_detect.jpg\n",
            "/content/drive/MyDrive/Colab Notebooks/2022/Face Mask Detector/Test/brian-asare-z7lTC8cFKKs-unsplash_detect.jpg\n",
            "/content/drive/MyDrive/Colab Notebooks/2022/Face Mask Detector/Test/karina-carvalho-fKTKVrNqXQQ-unsplash_detect.jpg\n",
            "/content/drive/MyDrive/Colab Notebooks/2022/Face Mask Detector/Test/imansyah-muhamad-putera-n4KewLKFOZw-unsplash_detect.jpg\n",
            "/content/drive/MyDrive/Colab Notebooks/2022/Face Mask Detector/Test/christopher-campbell-rDEOVtE7vOs-unsplash_detect.jpg\n"
          ]
        }
      ],
      "source": [
        "threshold = 0.9\n",
        "white = (255, 255, 255)\n",
        "font = cv2.FONT_HERSHEY_DUPLEX \n",
        "yellow = [0, 255, 255]\n",
        "\n",
        "for output, image_path in zip(output_list, image_list):\n",
        "    item = output[0]\n",
        "    img_path = image_path[0]\n",
        "\n",
        "    boxes = item['boxes'].cpu().detach().numpy()\n",
        "    labels = item['labels'].cpu().detach().numpy()\n",
        "    scores = item['scores'].cpu().detach().numpy()\n",
        "\n",
        "    boxes = boxes[scores >= threshold]\n",
        "    labels = labels[scores >= threshold]\n",
        "\n",
        "    img = cv2.imread(img_path)\n",
        "    col, row, _ = img.shape\n",
        "    base = row / 3354\n",
        "    resize_4 = max(1, int(4*base))\n",
        "    resize_5 = max(1, int(5*base))\n",
        "    resize_20 = max(1, int(20*base))\n",
        "\n",
        "    for box, label in zip(boxes, labels):\n",
        "        xmin_pred = int(box[0])\n",
        "        ymin_pred = int(box[1])\n",
        "        xmax_pred = int(box[2])\n",
        "        ymax_pred = int(box[3])\n",
        "        img[ymin_pred-resize_5:ymin_pred, xmin_pred:xmax_pred, :] = yellow\n",
        "        img[ymax_pred:ymax_pred+resize_5, xmin_pred:xmax_pred, :] = yellow\n",
        "        img[ymin_pred:ymax_pred, xmin_pred-resize_5:xmin_pred, :] = yellow\n",
        "        img[ymin_pred:ymax_pred, xmax_pred:xmax_pred+resize_5, :] = yellow\n",
        "        \n",
        "        x_text = xmin_pred\n",
        "        y_text = ymin_pred - resize_20\n",
        "        category = decode_category(label)\n",
        "        img = cv2.putText(img, category, (x_text, y_text), font, resize_4, white, 2, cv2.LINE_AA)\n",
        "    new_path = f\"{img_path[:-4]}_detect.jpg\"\n",
        "    print(new_path)\n",
        "    cv2.imwrite(new_path, img)"
      ]
    },
    {
      "cell_type": "code",
      "execution_count": null,
      "metadata": {
        "id": "fLJRcIz3Br7Q"
      },
      "outputs": [],
      "source": []
    }
  ],
  "metadata": {
    "accelerator": "GPU",
    "colab": {
      "provenance": []
    },
    "gpuClass": "standard",
    "kernelspec": {
      "display_name": "Python 3",
      "name": "python3"
    },
    "language_info": {
      "name": "python"
    },
    "widgets": {
      "application/vnd.jupyter.widget-state+json": {
        "1f07187915a04ce7993343eead88ca59": {
          "model_module": "@jupyter-widgets/base",
          "model_module_version": "1.2.0",
          "model_name": "LayoutModel",
          "state": {
            "_model_module": "@jupyter-widgets/base",
            "_model_module_version": "1.2.0",
            "_model_name": "LayoutModel",
            "_view_count": null,
            "_view_module": "@jupyter-widgets/base",
            "_view_module_version": "1.2.0",
            "_view_name": "LayoutView",
            "align_content": null,
            "align_items": null,
            "align_self": null,
            "border": null,
            "bottom": null,
            "display": null,
            "flex": null,
            "flex_flow": null,
            "grid_area": null,
            "grid_auto_columns": null,
            "grid_auto_flow": null,
            "grid_auto_rows": null,
            "grid_column": null,
            "grid_gap": null,
            "grid_row": null,
            "grid_template_areas": null,
            "grid_template_columns": null,
            "grid_template_rows": null,
            "height": null,
            "justify_content": null,
            "justify_items": null,
            "left": null,
            "margin": null,
            "max_height": null,
            "max_width": null,
            "min_height": null,
            "min_width": null,
            "object_fit": null,
            "object_position": null,
            "order": null,
            "overflow": null,
            "overflow_x": null,
            "overflow_y": null,
            "padding": null,
            "right": null,
            "top": null,
            "visibility": null,
            "width": null
          }
        },
        "265a7edde5244a1580d9ed052600d9a6": {
          "model_module": "@jupyter-widgets/base",
          "model_module_version": "1.2.0",
          "model_name": "LayoutModel",
          "state": {
            "_model_module": "@jupyter-widgets/base",
            "_model_module_version": "1.2.0",
            "_model_name": "LayoutModel",
            "_view_count": null,
            "_view_module": "@jupyter-widgets/base",
            "_view_module_version": "1.2.0",
            "_view_name": "LayoutView",
            "align_content": null,
            "align_items": null,
            "align_self": null,
            "border": null,
            "bottom": null,
            "display": null,
            "flex": null,
            "flex_flow": null,
            "grid_area": null,
            "grid_auto_columns": null,
            "grid_auto_flow": null,
            "grid_auto_rows": null,
            "grid_column": null,
            "grid_gap": null,
            "grid_row": null,
            "grid_template_areas": null,
            "grid_template_columns": null,
            "grid_template_rows": null,
            "height": null,
            "justify_content": null,
            "justify_items": null,
            "left": null,
            "margin": null,
            "max_height": null,
            "max_width": null,
            "min_height": null,
            "min_width": null,
            "object_fit": null,
            "object_position": null,
            "order": null,
            "overflow": null,
            "overflow_x": null,
            "overflow_y": null,
            "padding": null,
            "right": null,
            "top": null,
            "visibility": null,
            "width": null
          }
        },
        "7a649967870e496eb9ea3ffc3105cbb7": {
          "model_module": "@jupyter-widgets/base",
          "model_module_version": "1.2.0",
          "model_name": "LayoutModel",
          "state": {
            "_model_module": "@jupyter-widgets/base",
            "_model_module_version": "1.2.0",
            "_model_name": "LayoutModel",
            "_view_count": null,
            "_view_module": "@jupyter-widgets/base",
            "_view_module_version": "1.2.0",
            "_view_name": "LayoutView",
            "align_content": null,
            "align_items": null,
            "align_self": null,
            "border": null,
            "bottom": null,
            "display": null,
            "flex": null,
            "flex_flow": null,
            "grid_area": null,
            "grid_auto_columns": null,
            "grid_auto_flow": null,
            "grid_auto_rows": null,
            "grid_column": null,
            "grid_gap": null,
            "grid_row": null,
            "grid_template_areas": null,
            "grid_template_columns": null,
            "grid_template_rows": null,
            "height": null,
            "justify_content": null,
            "justify_items": null,
            "left": null,
            "margin": null,
            "max_height": null,
            "max_width": null,
            "min_height": null,
            "min_width": null,
            "object_fit": null,
            "object_position": null,
            "order": null,
            "overflow": null,
            "overflow_x": null,
            "overflow_y": null,
            "padding": null,
            "right": null,
            "top": null,
            "visibility": null,
            "width": null
          }
        },
        "903a93854b9e4ff6af0900946d135d46": {
          "model_module": "@jupyter-widgets/controls",
          "model_module_version": "1.5.0",
          "model_name": "ProgressStyleModel",
          "state": {
            "_model_module": "@jupyter-widgets/controls",
            "_model_module_version": "1.5.0",
            "_model_name": "ProgressStyleModel",
            "_view_count": null,
            "_view_module": "@jupyter-widgets/base",
            "_view_module_version": "1.2.0",
            "_view_name": "StyleView",
            "bar_color": null,
            "description_width": ""
          }
        },
        "98fa5673b1894c0f90d72caa860f359e": {
          "model_module": "@jupyter-widgets/controls",
          "model_module_version": "1.5.0",
          "model_name": "HTMLModel",
          "state": {
            "_dom_classes": [],
            "_model_module": "@jupyter-widgets/controls",
            "_model_module_version": "1.5.0",
            "_model_name": "HTMLModel",
            "_view_count": null,
            "_view_module": "@jupyter-widgets/controls",
            "_view_module_version": "1.5.0",
            "_view_name": "HTMLView",
            "description": "",
            "description_tooltip": null,
            "layout": "IPY_MODEL_7a649967870e496eb9ea3ffc3105cbb7",
            "placeholder": "​",
            "style": "IPY_MODEL_e21e1a3b38c74d17a90f3a3e2ecf6756",
            "value": " 160M/160M [00:00&lt;00:00, 268MB/s]"
          }
        },
        "ac4b0f7d6c3a476a9bd4616ab7a2a0de": {
          "model_module": "@jupyter-widgets/controls",
          "model_module_version": "1.5.0",
          "model_name": "FloatProgressModel",
          "state": {
            "_dom_classes": [],
            "_model_module": "@jupyter-widgets/controls",
            "_model_module_version": "1.5.0",
            "_model_name": "FloatProgressModel",
            "_view_count": null,
            "_view_module": "@jupyter-widgets/controls",
            "_view_module_version": "1.5.0",
            "_view_name": "ProgressView",
            "bar_style": "success",
            "description": "",
            "description_tooltip": null,
            "layout": "IPY_MODEL_1f07187915a04ce7993343eead88ca59",
            "max": 167502836,
            "min": 0,
            "orientation": "horizontal",
            "style": "IPY_MODEL_903a93854b9e4ff6af0900946d135d46",
            "value": 167502836
          }
        },
        "bccba6a2779c4f6da079fe52675c4759": {
          "model_module": "@jupyter-widgets/controls",
          "model_module_version": "1.5.0",
          "model_name": "DescriptionStyleModel",
          "state": {
            "_model_module": "@jupyter-widgets/controls",
            "_model_module_version": "1.5.0",
            "_model_name": "DescriptionStyleModel",
            "_view_count": null,
            "_view_module": "@jupyter-widgets/base",
            "_view_module_version": "1.2.0",
            "_view_name": "StyleView",
            "description_width": ""
          }
        },
        "e1e6e36cc7154523abb01ed464d85771": {
          "model_module": "@jupyter-widgets/controls",
          "model_module_version": "1.5.0",
          "model_name": "HTMLModel",
          "state": {
            "_dom_classes": [],
            "_model_module": "@jupyter-widgets/controls",
            "_model_module_version": "1.5.0",
            "_model_name": "HTMLModel",
            "_view_count": null,
            "_view_module": "@jupyter-widgets/controls",
            "_view_module_version": "1.5.0",
            "_view_name": "HTMLView",
            "description": "",
            "description_tooltip": null,
            "layout": "IPY_MODEL_fd6b4eda7dc14130a92df36d962b40fc",
            "placeholder": "​",
            "style": "IPY_MODEL_bccba6a2779c4f6da079fe52675c4759",
            "value": "100%"
          }
        },
        "e21e1a3b38c74d17a90f3a3e2ecf6756": {
          "model_module": "@jupyter-widgets/controls",
          "model_module_version": "1.5.0",
          "model_name": "DescriptionStyleModel",
          "state": {
            "_model_module": "@jupyter-widgets/controls",
            "_model_module_version": "1.5.0",
            "_model_name": "DescriptionStyleModel",
            "_view_count": null,
            "_view_module": "@jupyter-widgets/base",
            "_view_module_version": "1.2.0",
            "_view_name": "StyleView",
            "description_width": ""
          }
        },
        "f62ffc96ac8c4bc2935d98c45a6680d2": {
          "model_module": "@jupyter-widgets/controls",
          "model_module_version": "1.5.0",
          "model_name": "HBoxModel",
          "state": {
            "_dom_classes": [],
            "_model_module": "@jupyter-widgets/controls",
            "_model_module_version": "1.5.0",
            "_model_name": "HBoxModel",
            "_view_count": null,
            "_view_module": "@jupyter-widgets/controls",
            "_view_module_version": "1.5.0",
            "_view_name": "HBoxView",
            "box_style": "",
            "children": [
              "IPY_MODEL_e1e6e36cc7154523abb01ed464d85771",
              "IPY_MODEL_ac4b0f7d6c3a476a9bd4616ab7a2a0de",
              "IPY_MODEL_98fa5673b1894c0f90d72caa860f359e"
            ],
            "layout": "IPY_MODEL_265a7edde5244a1580d9ed052600d9a6"
          }
        },
        "fd6b4eda7dc14130a92df36d962b40fc": {
          "model_module": "@jupyter-widgets/base",
          "model_module_version": "1.2.0",
          "model_name": "LayoutModel",
          "state": {
            "_model_module": "@jupyter-widgets/base",
            "_model_module_version": "1.2.0",
            "_model_name": "LayoutModel",
            "_view_count": null,
            "_view_module": "@jupyter-widgets/base",
            "_view_module_version": "1.2.0",
            "_view_name": "LayoutView",
            "align_content": null,
            "align_items": null,
            "align_self": null,
            "border": null,
            "bottom": null,
            "display": null,
            "flex": null,
            "flex_flow": null,
            "grid_area": null,
            "grid_auto_columns": null,
            "grid_auto_flow": null,
            "grid_auto_rows": null,
            "grid_column": null,
            "grid_gap": null,
            "grid_row": null,
            "grid_template_areas": null,
            "grid_template_columns": null,
            "grid_template_rows": null,
            "height": null,
            "justify_content": null,
            "justify_items": null,
            "left": null,
            "margin": null,
            "max_height": null,
            "max_width": null,
            "min_height": null,
            "min_width": null,
            "object_fit": null,
            "object_position": null,
            "order": null,
            "overflow": null,
            "overflow_x": null,
            "overflow_y": null,
            "padding": null,
            "right": null,
            "top": null,
            "visibility": null,
            "width": null
          }
        }
      }
    }
  },
  "nbformat": 4,
  "nbformat_minor": 0
}